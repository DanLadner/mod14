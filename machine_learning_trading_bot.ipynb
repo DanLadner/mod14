{
  "nbformat": 4,
  "nbformat_minor": 0,
  "metadata": {
    "kernelspec": {
      "display_name": "Python (dev)",
      "language": "python",
      "name": "dev"
    },
    "language_info": {
      "codemirror_mode": {
        "name": "ipython",
        "version": 3
      },
      "file_extension": ".py",
      "mimetype": "text/x-python",
      "name": "python",
      "nbconvert_exporter": "python",
      "pygments_lexer": "ipython3",
      "version": "3.7.7"
    },
    "colab": {
      "name": "machine_learning_trading_bot.ipynb",
      "provenance": [],
      "include_colab_link": true
    }
  },
  "cells": [
    {
      "cell_type": "markdown",
      "metadata": {
        "id": "view-in-github",
        "colab_type": "text"
      },
      "source": [
        "<a href=\"https://colab.research.google.com/github/DanLadner/mod14/blob/main/machine_learning_trading_bot.ipynb\" target=\"_parent\"><img src=\"https://colab.research.google.com/assets/colab-badge.svg\" alt=\"Open In Colab\"/></a>"
      ]
    },
    {
      "cell_type": "markdown",
      "metadata": {
        "id": "rasnpr8ihAW0"
      },
      "source": [
        "# Machine Learning Trading Bot\n",
        "\n",
        "In this Challenge, you’ll assume the role of a financial advisor at one of the top five financial advisory firms in the world. Your firm constantly competes with the other major firms to manage and automatically trade assets in a highly dynamic environment. In recent years, your firm has heavily profited by using computer algorithms that can buy and sell faster than human traders.\n",
        "\n",
        "The speed of these transactions gave your firm a competitive advantage early on. But, people still need to specifically program these systems, which limits their ability to adapt to new data. You’re thus planning to improve the existing algorithmic trading systems and maintain the firm’s competitive advantage in the market. To do so, you’ll enhance the existing trading signals with machine learning algorithms that can adapt to new data.\n",
        "\n",
        "## Instructions:\n",
        "\n",
        "Use the starter code file to complete the steps that the instructions outline. The steps for this Challenge are divided into the following sections:\n",
        "\n",
        "* Establish a Baseline Performance\n",
        "\n",
        "* Tune the Baseline Trading Algorithm\n",
        "\n",
        "* Evaluate a New Machine Learning Classifier\n",
        "\n",
        "* Create an Evaluation Report\n",
        "\n",
        "#### Establish a Baseline Performance\n",
        "\n",
        "In this section, you’ll run the provided starter code to establish a baseline performance for the trading algorithm. To do so, complete the following steps.\n",
        "\n",
        "Open the Jupyter notebook. Restart the kernel, run the provided cells that correspond with the first three steps, and then proceed to step four. \n",
        "\n",
        "1. Import the OHLCV dataset into a Pandas DataFrame.\n",
        "\n",
        "2. Generate trading signals using short- and long-window SMA values. \n",
        "\n",
        "3. Split the data into training and testing datasets.\n",
        "\n",
        "4. Use the `SVC` classifier model from SKLearn's support vector machine (SVM) learning method to fit the training data and make predictions based on the testing data. Review the predictions.\n",
        "\n",
        "5. Review the classification report associated with the `SVC` model predictions. \n",
        "\n",
        "6. Create a predictions DataFrame that contains columns for “Predicted” values, “Actual Returns”, and “Strategy Returns”.\n",
        "\n",
        "7. Create a cumulative return plot that shows the actual returns vs. the strategy returns. Save a PNG image of this plot. This will serve as a baseline against which to compare the effects of tuning the trading algorithm.\n",
        "\n",
        "8. Write your conclusions about the performance of the baseline trading algorithm in the `README.md` file that’s associated with your GitHub repository. Support your findings by using the PNG image that you saved in the previous step.\n",
        "\n",
        "#### Tune the Baseline Trading Algorithm\n",
        "\n",
        "In this section, you’ll tune, or adjust, the model’s input features to find the parameters that result in the best trading outcomes. (You’ll choose the best by comparing the cumulative products of the strategy returns.) To do so, complete the following steps:\n",
        "\n",
        "1. Tune the training algorithm by adjusting the size of the training dataset. To do so, slice your data into different periods. Rerun the notebook with the updated parameters, and record the results in your `README.md` file. Answer the following question: What impact resulted from increasing or decreasing the training window?\n",
        "\n",
        "> **Hint** To adjust the size of the training dataset, you can use a different `DateOffset` value&mdash;for example, six months. Be aware that changing the size of the training dataset also affects the size of the testing dataset.\n",
        "\n",
        "2. Tune the trading algorithm by adjusting the SMA input features. Adjust one or both of the windows for the algorithm. Rerun the notebook with the updated parameters, and record the results in your `README.md` file. Answer the following question: What impact resulted from increasing or decreasing either or both of the SMA windows?\n",
        "\n",
        "3. Choose the set of parameters that best improved the trading algorithm returns. Save a PNG image of the cumulative product of the actual returns vs. the strategy returns, and document your conclusion in your `README.md` file.\n",
        "\n",
        "#### Evaluate a New Machine Learning Classifier\n",
        "\n",
        "In this section, you’ll use the original parameters that the starter code provided. But, you’ll apply them to the performance of a second machine learning model. To do so, complete the following steps:\n",
        "\n",
        "1. Import a new classifier, such as `AdaBoost`, `DecisionTreeClassifier`, or `LogisticRegression`. (For the full list of classifiers, refer to the [Supervised learning page](https://scikit-learn.org/stable/supervised_learning.html) in the scikit-learn documentation.)\n",
        "\n",
        "2. Using the original training data as the baseline model, fit another model with the new classifier.\n",
        "\n",
        "3. Backtest the new model to evaluate its performance. Save a PNG image of the cumulative product of the actual returns vs. the strategy returns for this updated trading algorithm, and write your conclusions in your `README.md` file. Answer the following questions: Did this new model perform better or worse than the provided baseline model? Did this new model perform better or worse than your tuned trading algorithm?\n",
        "\n",
        "#### Create an Evaluation Report\n",
        "\n",
        "In the previous sections, you updated your `README.md` file with your conclusions. To accomplish this section, you need to add a summary evaluation report at the end of the `README.md` file. For this report, express your final conclusions and analysis. Support your findings by using the PNG images that you created.\n"
      ]
    },
    {
      "cell_type": "code",
      "metadata": {
        "colab": {
          "resources": {
            "http://localhost:8080/nbextensions/google.colab/files.js": {
              "data": "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",
              "ok": true,
              "headers": [
                [
                  "content-type",
                  "application/javascript"
                ]
              ],
              "status": 200,
              "status_text": ""
            }
          },
          "base_uri": "https://localhost:8080/",
          "height": 611
        },
        "id": "oDxnBAkbhAXI",
        "outputId": "03bc2c59-aa22-4c94-9be6-2a32ff3da681"
      },
      "source": [
        "!pip install hvplot\n",
        "# Imports\n",
        "import pandas as pd\n",
        "import numpy as np\n",
        "from pathlib import Path\n",
        "import hvplot.pandas\n",
        "import matplotlib.pyplot as plt\n",
        "from sklearn import svm\n",
        "from sklearn.preprocessing import StandardScaler\n",
        "from pandas.tseries.offsets import DateOffset\n",
        "from sklearn.metrics import classification_report\n",
        "\n",
        "from google.colab import files\n",
        "files.upload()\n",
        "\n"
      ],
      "execution_count": 11,
      "outputs": [
        {
          "output_type": "stream",
          "name": "stdout",
          "text": [
            "Requirement already satisfied: hvplot in /usr/local/lib/python3.7/dist-packages (0.7.3)\n",
            "Requirement already satisfied: pandas in /usr/local/lib/python3.7/dist-packages (from hvplot) (1.1.5)\n",
            "Requirement already satisfied: colorcet>=2 in /usr/local/lib/python3.7/dist-packages (from hvplot) (2.0.6)\n",
            "Requirement already satisfied: numpy>=1.15 in /usr/local/lib/python3.7/dist-packages (from hvplot) (1.19.5)\n",
            "Requirement already satisfied: bokeh>=1.0.0 in /usr/local/lib/python3.7/dist-packages (from hvplot) (2.3.3)\n",
            "Requirement already satisfied: holoviews>=1.11.0 in /usr/local/lib/python3.7/dist-packages (from hvplot) (1.14.6)\n",
            "Requirement already satisfied: python-dateutil>=2.1 in /usr/local/lib/python3.7/dist-packages (from bokeh>=1.0.0->hvplot) (2.8.2)\n",
            "Requirement already satisfied: Jinja2>=2.9 in /usr/local/lib/python3.7/dist-packages (from bokeh>=1.0.0->hvplot) (2.11.3)\n",
            "Requirement already satisfied: packaging>=16.8 in /usr/local/lib/python3.7/dist-packages (from bokeh>=1.0.0->hvplot) (21.3)\n",
            "Requirement already satisfied: tornado>=5.1 in /usr/local/lib/python3.7/dist-packages (from bokeh>=1.0.0->hvplot) (5.1.1)\n",
            "Requirement already satisfied: pillow>=7.1.0 in /usr/local/lib/python3.7/dist-packages (from bokeh>=1.0.0->hvplot) (7.1.2)\n",
            "Requirement already satisfied: PyYAML>=3.10 in /usr/local/lib/python3.7/dist-packages (from bokeh>=1.0.0->hvplot) (3.13)\n",
            "Requirement already satisfied: typing-extensions>=3.7.4 in /usr/local/lib/python3.7/dist-packages (from bokeh>=1.0.0->hvplot) (3.10.0.2)\n",
            "Requirement already satisfied: pyct>=0.4.4 in /usr/local/lib/python3.7/dist-packages (from colorcet>=2->hvplot) (0.4.8)\n",
            "Requirement already satisfied: param>=1.7.0 in /usr/local/lib/python3.7/dist-packages (from colorcet>=2->hvplot) (1.12.0)\n",
            "Requirement already satisfied: panel>=0.8.0 in /usr/local/lib/python3.7/dist-packages (from holoviews>=1.11.0->hvplot) (0.12.1)\n",
            "Requirement already satisfied: pyviz-comms>=0.7.4 in /usr/local/lib/python3.7/dist-packages (from holoviews>=1.11.0->hvplot) (2.1.0)\n",
            "Requirement already satisfied: MarkupSafe>=0.23 in /usr/local/lib/python3.7/dist-packages (from Jinja2>=2.9->bokeh>=1.0.0->hvplot) (2.0.1)\n",
            "Requirement already satisfied: pyparsing!=3.0.5,>=2.0.2 in /usr/local/lib/python3.7/dist-packages (from packaging>=16.8->bokeh>=1.0.0->hvplot) (3.0.6)\n",
            "Requirement already satisfied: pytz>=2017.2 in /usr/local/lib/python3.7/dist-packages (from pandas->hvplot) (2018.9)\n",
            "Requirement already satisfied: requests in /usr/local/lib/python3.7/dist-packages (from panel>=0.8.0->holoviews>=1.11.0->hvplot) (2.23.0)\n",
            "Requirement already satisfied: tqdm>=4.48.0 in /usr/local/lib/python3.7/dist-packages (from panel>=0.8.0->holoviews>=1.11.0->hvplot) (4.62.3)\n",
            "Requirement already satisfied: bleach in /usr/local/lib/python3.7/dist-packages (from panel>=0.8.0->holoviews>=1.11.0->hvplot) (4.1.0)\n",
            "Requirement already satisfied: markdown in /usr/local/lib/python3.7/dist-packages (from panel>=0.8.0->holoviews>=1.11.0->hvplot) (3.3.6)\n",
            "Requirement already satisfied: six>=1.5 in /usr/local/lib/python3.7/dist-packages (from python-dateutil>=2.1->bokeh>=1.0.0->hvplot) (1.15.0)\n",
            "Requirement already satisfied: webencodings in /usr/local/lib/python3.7/dist-packages (from bleach->panel>=0.8.0->holoviews>=1.11.0->hvplot) (0.5.1)\n",
            "Requirement already satisfied: importlib-metadata>=4.4 in /usr/local/lib/python3.7/dist-packages (from markdown->panel>=0.8.0->holoviews>=1.11.0->hvplot) (4.8.2)\n",
            "Requirement already satisfied: zipp>=0.5 in /usr/local/lib/python3.7/dist-packages (from importlib-metadata>=4.4->markdown->panel>=0.8.0->holoviews>=1.11.0->hvplot) (3.6.0)\n",
            "Requirement already satisfied: urllib3!=1.25.0,!=1.25.1,<1.26,>=1.21.1 in /usr/local/lib/python3.7/dist-packages (from requests->panel>=0.8.0->holoviews>=1.11.0->hvplot) (1.24.3)\n",
            "Requirement already satisfied: chardet<4,>=3.0.2 in /usr/local/lib/python3.7/dist-packages (from requests->panel>=0.8.0->holoviews>=1.11.0->hvplot) (3.0.4)\n",
            "Requirement already satisfied: idna<3,>=2.5 in /usr/local/lib/python3.7/dist-packages (from requests->panel>=0.8.0->holoviews>=1.11.0->hvplot) (2.10)\n",
            "Requirement already satisfied: certifi>=2017.4.17 in /usr/local/lib/python3.7/dist-packages (from requests->panel>=0.8.0->holoviews>=1.11.0->hvplot) (2021.10.8)\n"
          ]
        },
        {
          "output_type": "display_data",
          "data": {
            "text/html": [
              "\n",
              "     <input type=\"file\" id=\"files-ed41dc32-d508-4a69-b4de-b782429909f6\" name=\"files[]\" multiple disabled\n",
              "        style=\"border:none\" />\n",
              "     <output id=\"result-ed41dc32-d508-4a69-b4de-b782429909f6\">\n",
              "      Upload widget is only available when the cell has been executed in the\n",
              "      current browser session. Please rerun this cell to enable.\n",
              "      </output>\n",
              "      <script src=\"/nbextensions/google.colab/files.js\"></script> "
            ],
            "text/plain": [
              "<IPython.core.display.HTML object>"
            ]
          },
          "metadata": {}
        },
        {
          "output_type": "execute_result",
          "data": {
            "text/plain": [
              "{}"
            ]
          },
          "metadata": {},
          "execution_count": 11
        }
      ]
    },
    {
      "cell_type": "markdown",
      "metadata": {
        "id": "XDO_rssShAXM"
      },
      "source": [
        "---\n",
        "\n",
        "## Establish a Baseline Performance\n",
        "\n",
        "In this section, you’ll run the provided starter code to establish a baseline performance for the trading algorithm. To do so, complete the following steps.\n",
        "\n",
        "Open the Jupyter notebook. Restart the kernel, run the provided cells that correspond with the first three steps, and then proceed to step four. \n"
      ]
    },
    {
      "cell_type": "markdown",
      "metadata": {
        "id": "2EpzcZaGhAXN"
      },
      "source": [
        "### Step 1: mport the OHLCV dataset into a Pandas DataFrame."
      ]
    },
    {
      "cell_type": "code",
      "metadata": {
        "colab": {
          "base_uri": "https://localhost:8080/",
          "height": 238
        },
        "id": "vmOWy-V3hAXO",
        "outputId": "1824e061-1592-4c05-d7d0-6576c183f44c"
      },
      "source": [
        "# Import the OHLCV dataset into a Pandas Dataframe\n",
        "ohlcv_df = pd.read_csv(\n",
        "    Path(\"./emerging_markets_ohlcv.csv\"), \n",
        "    index_col='date', \n",
        "    infer_datetime_format=True, \n",
        "    parse_dates=True\n",
        ")\n",
        "\n",
        "# Review the DataFrame\n",
        "ohlcv_df.head()"
      ],
      "execution_count": 12,
      "outputs": [
        {
          "output_type": "execute_result",
          "data": {
            "text/html": [
              "<div>\n",
              "<style scoped>\n",
              "    .dataframe tbody tr th:only-of-type {\n",
              "        vertical-align: middle;\n",
              "    }\n",
              "\n",
              "    .dataframe tbody tr th {\n",
              "        vertical-align: top;\n",
              "    }\n",
              "\n",
              "    .dataframe thead th {\n",
              "        text-align: right;\n",
              "    }\n",
              "</style>\n",
              "<table border=\"1\" class=\"dataframe\">\n",
              "  <thead>\n",
              "    <tr style=\"text-align: right;\">\n",
              "      <th></th>\n",
              "      <th>open</th>\n",
              "      <th>high</th>\n",
              "      <th>low</th>\n",
              "      <th>close</th>\n",
              "      <th>volume</th>\n",
              "    </tr>\n",
              "    <tr>\n",
              "      <th>date</th>\n",
              "      <th></th>\n",
              "      <th></th>\n",
              "      <th></th>\n",
              "      <th></th>\n",
              "      <th></th>\n",
              "    </tr>\n",
              "  </thead>\n",
              "  <tbody>\n",
              "    <tr>\n",
              "      <th>2015-01-21 09:30:00</th>\n",
              "      <td>23.83</td>\n",
              "      <td>23.83</td>\n",
              "      <td>23.83</td>\n",
              "      <td>23.83</td>\n",
              "      <td>100</td>\n",
              "    </tr>\n",
              "    <tr>\n",
              "      <th>2015-01-21 11:00:00</th>\n",
              "      <td>23.98</td>\n",
              "      <td>23.98</td>\n",
              "      <td>23.98</td>\n",
              "      <td>23.98</td>\n",
              "      <td>100</td>\n",
              "    </tr>\n",
              "    <tr>\n",
              "      <th>2015-01-22 15:00:00</th>\n",
              "      <td>24.42</td>\n",
              "      <td>24.42</td>\n",
              "      <td>24.42</td>\n",
              "      <td>24.42</td>\n",
              "      <td>100</td>\n",
              "    </tr>\n",
              "    <tr>\n",
              "      <th>2015-01-22 15:15:00</th>\n",
              "      <td>24.42</td>\n",
              "      <td>24.44</td>\n",
              "      <td>24.42</td>\n",
              "      <td>24.44</td>\n",
              "      <td>200</td>\n",
              "    </tr>\n",
              "    <tr>\n",
              "      <th>2015-01-22 15:30:00</th>\n",
              "      <td>24.46</td>\n",
              "      <td>24.46</td>\n",
              "      <td>24.46</td>\n",
              "      <td>24.46</td>\n",
              "      <td>200</td>\n",
              "    </tr>\n",
              "  </tbody>\n",
              "</table>\n",
              "</div>"
            ],
            "text/plain": [
              "                      open   high    low  close  volume\n",
              "date                                                   \n",
              "2015-01-21 09:30:00  23.83  23.83  23.83  23.83     100\n",
              "2015-01-21 11:00:00  23.98  23.98  23.98  23.98     100\n",
              "2015-01-22 15:00:00  24.42  24.42  24.42  24.42     100\n",
              "2015-01-22 15:15:00  24.42  24.44  24.42  24.44     200\n",
              "2015-01-22 15:30:00  24.46  24.46  24.46  24.46     200"
            ]
          },
          "metadata": {},
          "execution_count": 12
        }
      ]
    },
    {
      "cell_type": "code",
      "metadata": {
        "colab": {
          "base_uri": "https://localhost:8080/",
          "height": 458
        },
        "id": "7QJRQMgzhAXP",
        "outputId": "6d612f6a-f835-401c-e0cb-a80f3cbbed7c"
      },
      "source": [
        "# Filter the date index and close columns\n",
        "signals_df = ohlcv_df.loc[:, [\"close\"]]\n",
        "\n",
        "# Use the pct_change function to generate  returns from close prices\n",
        "signals_df[\"Actual Returns\"] = signals_df[\"close\"].pct_change()\n",
        "\n",
        "# Drop all NaN values from the DataFrame\n",
        "signals_df = signals_df.dropna()\n",
        "\n",
        "# Review the DataFrame\n",
        "display(signals_df.head())\n",
        "display(signals_df.tail())"
      ],
      "execution_count": 13,
      "outputs": [
        {
          "output_type": "display_data",
          "data": {
            "text/html": [
              "<div>\n",
              "<style scoped>\n",
              "    .dataframe tbody tr th:only-of-type {\n",
              "        vertical-align: middle;\n",
              "    }\n",
              "\n",
              "    .dataframe tbody tr th {\n",
              "        vertical-align: top;\n",
              "    }\n",
              "\n",
              "    .dataframe thead th {\n",
              "        text-align: right;\n",
              "    }\n",
              "</style>\n",
              "<table border=\"1\" class=\"dataframe\">\n",
              "  <thead>\n",
              "    <tr style=\"text-align: right;\">\n",
              "      <th></th>\n",
              "      <th>close</th>\n",
              "      <th>Actual Returns</th>\n",
              "    </tr>\n",
              "    <tr>\n",
              "      <th>date</th>\n",
              "      <th></th>\n",
              "      <th></th>\n",
              "    </tr>\n",
              "  </thead>\n",
              "  <tbody>\n",
              "    <tr>\n",
              "      <th>2015-01-21 11:00:00</th>\n",
              "      <td>23.98</td>\n",
              "      <td>0.006295</td>\n",
              "    </tr>\n",
              "    <tr>\n",
              "      <th>2015-01-22 15:00:00</th>\n",
              "      <td>24.42</td>\n",
              "      <td>0.018349</td>\n",
              "    </tr>\n",
              "    <tr>\n",
              "      <th>2015-01-22 15:15:00</th>\n",
              "      <td>24.44</td>\n",
              "      <td>0.000819</td>\n",
              "    </tr>\n",
              "    <tr>\n",
              "      <th>2015-01-22 15:30:00</th>\n",
              "      <td>24.46</td>\n",
              "      <td>0.000818</td>\n",
              "    </tr>\n",
              "    <tr>\n",
              "      <th>2015-01-26 12:30:00</th>\n",
              "      <td>24.33</td>\n",
              "      <td>-0.005315</td>\n",
              "    </tr>\n",
              "  </tbody>\n",
              "</table>\n",
              "</div>"
            ],
            "text/plain": [
              "                     close  Actual Returns\n",
              "date                                      \n",
              "2015-01-21 11:00:00  23.98        0.006295\n",
              "2015-01-22 15:00:00  24.42        0.018349\n",
              "2015-01-22 15:15:00  24.44        0.000819\n",
              "2015-01-22 15:30:00  24.46        0.000818\n",
              "2015-01-26 12:30:00  24.33       -0.005315"
            ]
          },
          "metadata": {}
        },
        {
          "output_type": "display_data",
          "data": {
            "text/html": [
              "<div>\n",
              "<style scoped>\n",
              "    .dataframe tbody tr th:only-of-type {\n",
              "        vertical-align: middle;\n",
              "    }\n",
              "\n",
              "    .dataframe tbody tr th {\n",
              "        vertical-align: top;\n",
              "    }\n",
              "\n",
              "    .dataframe thead th {\n",
              "        text-align: right;\n",
              "    }\n",
              "</style>\n",
              "<table border=\"1\" class=\"dataframe\">\n",
              "  <thead>\n",
              "    <tr style=\"text-align: right;\">\n",
              "      <th></th>\n",
              "      <th>close</th>\n",
              "      <th>Actual Returns</th>\n",
              "    </tr>\n",
              "    <tr>\n",
              "      <th>date</th>\n",
              "      <th></th>\n",
              "      <th></th>\n",
              "    </tr>\n",
              "  </thead>\n",
              "  <tbody>\n",
              "    <tr>\n",
              "      <th>2021-01-22 09:30:00</th>\n",
              "      <td>33.27</td>\n",
              "      <td>-0.006866</td>\n",
              "    </tr>\n",
              "    <tr>\n",
              "      <th>2021-01-22 11:30:00</th>\n",
              "      <td>33.35</td>\n",
              "      <td>0.002405</td>\n",
              "    </tr>\n",
              "    <tr>\n",
              "      <th>2021-01-22 13:45:00</th>\n",
              "      <td>33.42</td>\n",
              "      <td>0.002099</td>\n",
              "    </tr>\n",
              "    <tr>\n",
              "      <th>2021-01-22 14:30:00</th>\n",
              "      <td>33.47</td>\n",
              "      <td>0.001496</td>\n",
              "    </tr>\n",
              "    <tr>\n",
              "      <th>2021-01-22 15:45:00</th>\n",
              "      <td>33.44</td>\n",
              "      <td>-0.000896</td>\n",
              "    </tr>\n",
              "  </tbody>\n",
              "</table>\n",
              "</div>"
            ],
            "text/plain": [
              "                     close  Actual Returns\n",
              "date                                      \n",
              "2021-01-22 09:30:00  33.27       -0.006866\n",
              "2021-01-22 11:30:00  33.35        0.002405\n",
              "2021-01-22 13:45:00  33.42        0.002099\n",
              "2021-01-22 14:30:00  33.47        0.001496\n",
              "2021-01-22 15:45:00  33.44       -0.000896"
            ]
          },
          "metadata": {}
        }
      ]
    },
    {
      "cell_type": "markdown",
      "metadata": {
        "id": "dbwsR1PkhAXP"
      },
      "source": [
        "## Step 2: Generate trading signals using short- and long-window SMA values. "
      ]
    },
    {
      "cell_type": "code",
      "metadata": {
        "colab": {
          "base_uri": "https://localhost:8080/",
          "height": 458
        },
        "id": "vNQquaUehAXQ",
        "outputId": "4b6b5e49-45a0-4a7e-9294-33f2e44aaa4e"
      },
      "source": [
        "# Set the short window and long window\n",
        "short_window = 4\n",
        "long_window = 100\n",
        "\n",
        "# Generate the fast and slow simple moving averages (4 and 100 days, respectively)\n",
        "signals_df['SMA_Fast'] = signals_df['close'].rolling(window=short_window).mean()\n",
        "signals_df['SMA_Slow'] = signals_df['close'].rolling(window=long_window).mean()\n",
        "\n",
        "signals_df = signals_df.dropna()\n",
        "\n",
        "# Review the DataFrame\n",
        "display(signals_df.head())\n",
        "display(signals_df.tail())"
      ],
      "execution_count": 14,
      "outputs": [
        {
          "output_type": "display_data",
          "data": {
            "text/html": [
              "<div>\n",
              "<style scoped>\n",
              "    .dataframe tbody tr th:only-of-type {\n",
              "        vertical-align: middle;\n",
              "    }\n",
              "\n",
              "    .dataframe tbody tr th {\n",
              "        vertical-align: top;\n",
              "    }\n",
              "\n",
              "    .dataframe thead th {\n",
              "        text-align: right;\n",
              "    }\n",
              "</style>\n",
              "<table border=\"1\" class=\"dataframe\">\n",
              "  <thead>\n",
              "    <tr style=\"text-align: right;\">\n",
              "      <th></th>\n",
              "      <th>close</th>\n",
              "      <th>Actual Returns</th>\n",
              "      <th>SMA_Fast</th>\n",
              "      <th>SMA_Slow</th>\n",
              "    </tr>\n",
              "    <tr>\n",
              "      <th>date</th>\n",
              "      <th></th>\n",
              "      <th></th>\n",
              "      <th></th>\n",
              "      <th></th>\n",
              "    </tr>\n",
              "  </thead>\n",
              "  <tbody>\n",
              "    <tr>\n",
              "      <th>2015-04-02 14:45:00</th>\n",
              "      <td>24.92</td>\n",
              "      <td>0.000000</td>\n",
              "      <td>24.9175</td>\n",
              "      <td>24.3214</td>\n",
              "    </tr>\n",
              "    <tr>\n",
              "      <th>2015-04-02 15:00:00</th>\n",
              "      <td>24.92</td>\n",
              "      <td>0.000000</td>\n",
              "      <td>24.9200</td>\n",
              "      <td>24.3308</td>\n",
              "    </tr>\n",
              "    <tr>\n",
              "      <th>2015-04-02 15:15:00</th>\n",
              "      <td>24.94</td>\n",
              "      <td>0.000803</td>\n",
              "      <td>24.9250</td>\n",
              "      <td>24.3360</td>\n",
              "    </tr>\n",
              "    <tr>\n",
              "      <th>2015-04-02 15:30:00</th>\n",
              "      <td>24.95</td>\n",
              "      <td>0.000401</td>\n",
              "      <td>24.9325</td>\n",
              "      <td>24.3411</td>\n",
              "    </tr>\n",
              "    <tr>\n",
              "      <th>2015-04-02 15:45:00</th>\n",
              "      <td>24.98</td>\n",
              "      <td>0.001202</td>\n",
              "      <td>24.9475</td>\n",
              "      <td>24.3463</td>\n",
              "    </tr>\n",
              "  </tbody>\n",
              "</table>\n",
              "</div>"
            ],
            "text/plain": [
              "                     close  Actual Returns  SMA_Fast  SMA_Slow\n",
              "date                                                          \n",
              "2015-04-02 14:45:00  24.92        0.000000   24.9175   24.3214\n",
              "2015-04-02 15:00:00  24.92        0.000000   24.9200   24.3308\n",
              "2015-04-02 15:15:00  24.94        0.000803   24.9250   24.3360\n",
              "2015-04-02 15:30:00  24.95        0.000401   24.9325   24.3411\n",
              "2015-04-02 15:45:00  24.98        0.001202   24.9475   24.3463"
            ]
          },
          "metadata": {}
        },
        {
          "output_type": "display_data",
          "data": {
            "text/html": [
              "<div>\n",
              "<style scoped>\n",
              "    .dataframe tbody tr th:only-of-type {\n",
              "        vertical-align: middle;\n",
              "    }\n",
              "\n",
              "    .dataframe tbody tr th {\n",
              "        vertical-align: top;\n",
              "    }\n",
              "\n",
              "    .dataframe thead th {\n",
              "        text-align: right;\n",
              "    }\n",
              "</style>\n",
              "<table border=\"1\" class=\"dataframe\">\n",
              "  <thead>\n",
              "    <tr style=\"text-align: right;\">\n",
              "      <th></th>\n",
              "      <th>close</th>\n",
              "      <th>Actual Returns</th>\n",
              "      <th>SMA_Fast</th>\n",
              "      <th>SMA_Slow</th>\n",
              "    </tr>\n",
              "    <tr>\n",
              "      <th>date</th>\n",
              "      <th></th>\n",
              "      <th></th>\n",
              "      <th></th>\n",
              "      <th></th>\n",
              "    </tr>\n",
              "  </thead>\n",
              "  <tbody>\n",
              "    <tr>\n",
              "      <th>2021-01-22 09:30:00</th>\n",
              "      <td>33.27</td>\n",
              "      <td>-0.006866</td>\n",
              "      <td>33.2025</td>\n",
              "      <td>30.40215</td>\n",
              "    </tr>\n",
              "    <tr>\n",
              "      <th>2021-01-22 11:30:00</th>\n",
              "      <td>33.35</td>\n",
              "      <td>0.002405</td>\n",
              "      <td>33.2725</td>\n",
              "      <td>30.44445</td>\n",
              "    </tr>\n",
              "    <tr>\n",
              "      <th>2021-01-22 13:45:00</th>\n",
              "      <td>33.42</td>\n",
              "      <td>0.002099</td>\n",
              "      <td>33.3850</td>\n",
              "      <td>30.48745</td>\n",
              "    </tr>\n",
              "    <tr>\n",
              "      <th>2021-01-22 14:30:00</th>\n",
              "      <td>33.47</td>\n",
              "      <td>0.001496</td>\n",
              "      <td>33.3775</td>\n",
              "      <td>30.53085</td>\n",
              "    </tr>\n",
              "    <tr>\n",
              "      <th>2021-01-22 15:45:00</th>\n",
              "      <td>33.44</td>\n",
              "      <td>-0.000896</td>\n",
              "      <td>33.4200</td>\n",
              "      <td>30.57495</td>\n",
              "    </tr>\n",
              "  </tbody>\n",
              "</table>\n",
              "</div>"
            ],
            "text/plain": [
              "                     close  Actual Returns  SMA_Fast  SMA_Slow\n",
              "date                                                          \n",
              "2021-01-22 09:30:00  33.27       -0.006866   33.2025  30.40215\n",
              "2021-01-22 11:30:00  33.35        0.002405   33.2725  30.44445\n",
              "2021-01-22 13:45:00  33.42        0.002099   33.3850  30.48745\n",
              "2021-01-22 14:30:00  33.47        0.001496   33.3775  30.53085\n",
              "2021-01-22 15:45:00  33.44       -0.000896   33.4200  30.57495"
            ]
          },
          "metadata": {}
        }
      ]
    },
    {
      "cell_type": "code",
      "metadata": {
        "colab": {
          "base_uri": "https://localhost:8080/",
          "height": 458
        },
        "id": "uS2XuQyLhAXR",
        "outputId": "bec57bb4-a786-4c28-c952-43268d1b0fb8"
      },
      "source": [
        "# Initialize the new Signal column\n",
        "signals_df['Signal'] = 0.0\n",
        "\n",
        "# When Actual Returns are greater than or equal to 0, generate signal to buy stock long\n",
        "signals_df.loc[(signals_df['Actual Returns'] >= 0), 'Signal'] = 1\n",
        "\n",
        "# When Actual Returns are less than 0, generate signal to sell stock short\n",
        "signals_df.loc[(signals_df['Actual Returns'] < 0), 'Signal'] = -1\n",
        "\n",
        "# Review the DataFrame\n",
        "display(signals_df.head())\n",
        "display(signals_df.tail())"
      ],
      "execution_count": 15,
      "outputs": [
        {
          "output_type": "display_data",
          "data": {
            "text/html": [
              "<div>\n",
              "<style scoped>\n",
              "    .dataframe tbody tr th:only-of-type {\n",
              "        vertical-align: middle;\n",
              "    }\n",
              "\n",
              "    .dataframe tbody tr th {\n",
              "        vertical-align: top;\n",
              "    }\n",
              "\n",
              "    .dataframe thead th {\n",
              "        text-align: right;\n",
              "    }\n",
              "</style>\n",
              "<table border=\"1\" class=\"dataframe\">\n",
              "  <thead>\n",
              "    <tr style=\"text-align: right;\">\n",
              "      <th></th>\n",
              "      <th>close</th>\n",
              "      <th>Actual Returns</th>\n",
              "      <th>SMA_Fast</th>\n",
              "      <th>SMA_Slow</th>\n",
              "      <th>Signal</th>\n",
              "    </tr>\n",
              "    <tr>\n",
              "      <th>date</th>\n",
              "      <th></th>\n",
              "      <th></th>\n",
              "      <th></th>\n",
              "      <th></th>\n",
              "      <th></th>\n",
              "    </tr>\n",
              "  </thead>\n",
              "  <tbody>\n",
              "    <tr>\n",
              "      <th>2015-04-02 14:45:00</th>\n",
              "      <td>24.92</td>\n",
              "      <td>0.000000</td>\n",
              "      <td>24.9175</td>\n",
              "      <td>24.3214</td>\n",
              "      <td>1.0</td>\n",
              "    </tr>\n",
              "    <tr>\n",
              "      <th>2015-04-02 15:00:00</th>\n",
              "      <td>24.92</td>\n",
              "      <td>0.000000</td>\n",
              "      <td>24.9200</td>\n",
              "      <td>24.3308</td>\n",
              "      <td>1.0</td>\n",
              "    </tr>\n",
              "    <tr>\n",
              "      <th>2015-04-02 15:15:00</th>\n",
              "      <td>24.94</td>\n",
              "      <td>0.000803</td>\n",
              "      <td>24.9250</td>\n",
              "      <td>24.3360</td>\n",
              "      <td>1.0</td>\n",
              "    </tr>\n",
              "    <tr>\n",
              "      <th>2015-04-02 15:30:00</th>\n",
              "      <td>24.95</td>\n",
              "      <td>0.000401</td>\n",
              "      <td>24.9325</td>\n",
              "      <td>24.3411</td>\n",
              "      <td>1.0</td>\n",
              "    </tr>\n",
              "    <tr>\n",
              "      <th>2015-04-02 15:45:00</th>\n",
              "      <td>24.98</td>\n",
              "      <td>0.001202</td>\n",
              "      <td>24.9475</td>\n",
              "      <td>24.3463</td>\n",
              "      <td>1.0</td>\n",
              "    </tr>\n",
              "  </tbody>\n",
              "</table>\n",
              "</div>"
            ],
            "text/plain": [
              "                     close  Actual Returns  SMA_Fast  SMA_Slow  Signal\n",
              "date                                                                  \n",
              "2015-04-02 14:45:00  24.92        0.000000   24.9175   24.3214     1.0\n",
              "2015-04-02 15:00:00  24.92        0.000000   24.9200   24.3308     1.0\n",
              "2015-04-02 15:15:00  24.94        0.000803   24.9250   24.3360     1.0\n",
              "2015-04-02 15:30:00  24.95        0.000401   24.9325   24.3411     1.0\n",
              "2015-04-02 15:45:00  24.98        0.001202   24.9475   24.3463     1.0"
            ]
          },
          "metadata": {}
        },
        {
          "output_type": "display_data",
          "data": {
            "text/html": [
              "<div>\n",
              "<style scoped>\n",
              "    .dataframe tbody tr th:only-of-type {\n",
              "        vertical-align: middle;\n",
              "    }\n",
              "\n",
              "    .dataframe tbody tr th {\n",
              "        vertical-align: top;\n",
              "    }\n",
              "\n",
              "    .dataframe thead th {\n",
              "        text-align: right;\n",
              "    }\n",
              "</style>\n",
              "<table border=\"1\" class=\"dataframe\">\n",
              "  <thead>\n",
              "    <tr style=\"text-align: right;\">\n",
              "      <th></th>\n",
              "      <th>close</th>\n",
              "      <th>Actual Returns</th>\n",
              "      <th>SMA_Fast</th>\n",
              "      <th>SMA_Slow</th>\n",
              "      <th>Signal</th>\n",
              "    </tr>\n",
              "    <tr>\n",
              "      <th>date</th>\n",
              "      <th></th>\n",
              "      <th></th>\n",
              "      <th></th>\n",
              "      <th></th>\n",
              "      <th></th>\n",
              "    </tr>\n",
              "  </thead>\n",
              "  <tbody>\n",
              "    <tr>\n",
              "      <th>2021-01-22 09:30:00</th>\n",
              "      <td>33.27</td>\n",
              "      <td>-0.006866</td>\n",
              "      <td>33.2025</td>\n",
              "      <td>30.40215</td>\n",
              "      <td>-1.0</td>\n",
              "    </tr>\n",
              "    <tr>\n",
              "      <th>2021-01-22 11:30:00</th>\n",
              "      <td>33.35</td>\n",
              "      <td>0.002405</td>\n",
              "      <td>33.2725</td>\n",
              "      <td>30.44445</td>\n",
              "      <td>1.0</td>\n",
              "    </tr>\n",
              "    <tr>\n",
              "      <th>2021-01-22 13:45:00</th>\n",
              "      <td>33.42</td>\n",
              "      <td>0.002099</td>\n",
              "      <td>33.3850</td>\n",
              "      <td>30.48745</td>\n",
              "      <td>1.0</td>\n",
              "    </tr>\n",
              "    <tr>\n",
              "      <th>2021-01-22 14:30:00</th>\n",
              "      <td>33.47</td>\n",
              "      <td>0.001496</td>\n",
              "      <td>33.3775</td>\n",
              "      <td>30.53085</td>\n",
              "      <td>1.0</td>\n",
              "    </tr>\n",
              "    <tr>\n",
              "      <th>2021-01-22 15:45:00</th>\n",
              "      <td>33.44</td>\n",
              "      <td>-0.000896</td>\n",
              "      <td>33.4200</td>\n",
              "      <td>30.57495</td>\n",
              "      <td>-1.0</td>\n",
              "    </tr>\n",
              "  </tbody>\n",
              "</table>\n",
              "</div>"
            ],
            "text/plain": [
              "                     close  Actual Returns  SMA_Fast  SMA_Slow  Signal\n",
              "date                                                                  \n",
              "2021-01-22 09:30:00  33.27       -0.006866   33.2025  30.40215    -1.0\n",
              "2021-01-22 11:30:00  33.35        0.002405   33.2725  30.44445     1.0\n",
              "2021-01-22 13:45:00  33.42        0.002099   33.3850  30.48745     1.0\n",
              "2021-01-22 14:30:00  33.47        0.001496   33.3775  30.53085     1.0\n",
              "2021-01-22 15:45:00  33.44       -0.000896   33.4200  30.57495    -1.0"
            ]
          },
          "metadata": {}
        }
      ]
    },
    {
      "cell_type": "code",
      "metadata": {
        "colab": {
          "base_uri": "https://localhost:8080/"
        },
        "id": "uRWXxiHRhAXS",
        "outputId": "16154ccc-a58e-44ad-a574-8a546d72cb36"
      },
      "source": [
        "signals_df['Signal'].value_counts()"
      ],
      "execution_count": 16,
      "outputs": [
        {
          "output_type": "execute_result",
          "data": {
            "text/plain": [
              " 1.0    2368\n",
              "-1.0    1855\n",
              "Name: Signal, dtype: int64"
            ]
          },
          "metadata": {},
          "execution_count": 16
        }
      ]
    },
    {
      "cell_type": "code",
      "metadata": {
        "colab": {
          "base_uri": "https://localhost:8080/",
          "height": 458
        },
        "id": "6PzgSKQfhAXT",
        "outputId": "be10013b-d9cf-48f1-e561-3fdf61539297"
      },
      "source": [
        "# Calculate the strategy returns and add them to the signals_df DataFrame\n",
        "signals_df['Strategy Returns'] = signals_df['Actual Returns'] * signals_df['Signal'].shift()\n",
        "\n",
        "# Review the DataFrame\n",
        "display(signals_df.head())\n",
        "display(signals_df.tail())"
      ],
      "execution_count": 17,
      "outputs": [
        {
          "output_type": "display_data",
          "data": {
            "text/html": [
              "<div>\n",
              "<style scoped>\n",
              "    .dataframe tbody tr th:only-of-type {\n",
              "        vertical-align: middle;\n",
              "    }\n",
              "\n",
              "    .dataframe tbody tr th {\n",
              "        vertical-align: top;\n",
              "    }\n",
              "\n",
              "    .dataframe thead th {\n",
              "        text-align: right;\n",
              "    }\n",
              "</style>\n",
              "<table border=\"1\" class=\"dataframe\">\n",
              "  <thead>\n",
              "    <tr style=\"text-align: right;\">\n",
              "      <th></th>\n",
              "      <th>close</th>\n",
              "      <th>Actual Returns</th>\n",
              "      <th>SMA_Fast</th>\n",
              "      <th>SMA_Slow</th>\n",
              "      <th>Signal</th>\n",
              "      <th>Strategy Returns</th>\n",
              "    </tr>\n",
              "    <tr>\n",
              "      <th>date</th>\n",
              "      <th></th>\n",
              "      <th></th>\n",
              "      <th></th>\n",
              "      <th></th>\n",
              "      <th></th>\n",
              "      <th></th>\n",
              "    </tr>\n",
              "  </thead>\n",
              "  <tbody>\n",
              "    <tr>\n",
              "      <th>2015-04-02 14:45:00</th>\n",
              "      <td>24.92</td>\n",
              "      <td>0.000000</td>\n",
              "      <td>24.9175</td>\n",
              "      <td>24.3214</td>\n",
              "      <td>1.0</td>\n",
              "      <td>NaN</td>\n",
              "    </tr>\n",
              "    <tr>\n",
              "      <th>2015-04-02 15:00:00</th>\n",
              "      <td>24.92</td>\n",
              "      <td>0.000000</td>\n",
              "      <td>24.9200</td>\n",
              "      <td>24.3308</td>\n",
              "      <td>1.0</td>\n",
              "      <td>0.000000</td>\n",
              "    </tr>\n",
              "    <tr>\n",
              "      <th>2015-04-02 15:15:00</th>\n",
              "      <td>24.94</td>\n",
              "      <td>0.000803</td>\n",
              "      <td>24.9250</td>\n",
              "      <td>24.3360</td>\n",
              "      <td>1.0</td>\n",
              "      <td>0.000803</td>\n",
              "    </tr>\n",
              "    <tr>\n",
              "      <th>2015-04-02 15:30:00</th>\n",
              "      <td>24.95</td>\n",
              "      <td>0.000401</td>\n",
              "      <td>24.9325</td>\n",
              "      <td>24.3411</td>\n",
              "      <td>1.0</td>\n",
              "      <td>0.000401</td>\n",
              "    </tr>\n",
              "    <tr>\n",
              "      <th>2015-04-02 15:45:00</th>\n",
              "      <td>24.98</td>\n",
              "      <td>0.001202</td>\n",
              "      <td>24.9475</td>\n",
              "      <td>24.3463</td>\n",
              "      <td>1.0</td>\n",
              "      <td>0.001202</td>\n",
              "    </tr>\n",
              "  </tbody>\n",
              "</table>\n",
              "</div>"
            ],
            "text/plain": [
              "                     close  Actual Returns  ...  Signal  Strategy Returns\n",
              "date                                        ...                          \n",
              "2015-04-02 14:45:00  24.92        0.000000  ...     1.0               NaN\n",
              "2015-04-02 15:00:00  24.92        0.000000  ...     1.0          0.000000\n",
              "2015-04-02 15:15:00  24.94        0.000803  ...     1.0          0.000803\n",
              "2015-04-02 15:30:00  24.95        0.000401  ...     1.0          0.000401\n",
              "2015-04-02 15:45:00  24.98        0.001202  ...     1.0          0.001202\n",
              "\n",
              "[5 rows x 6 columns]"
            ]
          },
          "metadata": {}
        },
        {
          "output_type": "display_data",
          "data": {
            "text/html": [
              "<div>\n",
              "<style scoped>\n",
              "    .dataframe tbody tr th:only-of-type {\n",
              "        vertical-align: middle;\n",
              "    }\n",
              "\n",
              "    .dataframe tbody tr th {\n",
              "        vertical-align: top;\n",
              "    }\n",
              "\n",
              "    .dataframe thead th {\n",
              "        text-align: right;\n",
              "    }\n",
              "</style>\n",
              "<table border=\"1\" class=\"dataframe\">\n",
              "  <thead>\n",
              "    <tr style=\"text-align: right;\">\n",
              "      <th></th>\n",
              "      <th>close</th>\n",
              "      <th>Actual Returns</th>\n",
              "      <th>SMA_Fast</th>\n",
              "      <th>SMA_Slow</th>\n",
              "      <th>Signal</th>\n",
              "      <th>Strategy Returns</th>\n",
              "    </tr>\n",
              "    <tr>\n",
              "      <th>date</th>\n",
              "      <th></th>\n",
              "      <th></th>\n",
              "      <th></th>\n",
              "      <th></th>\n",
              "      <th></th>\n",
              "      <th></th>\n",
              "    </tr>\n",
              "  </thead>\n",
              "  <tbody>\n",
              "    <tr>\n",
              "      <th>2021-01-22 09:30:00</th>\n",
              "      <td>33.27</td>\n",
              "      <td>-0.006866</td>\n",
              "      <td>33.2025</td>\n",
              "      <td>30.40215</td>\n",
              "      <td>-1.0</td>\n",
              "      <td>-0.006866</td>\n",
              "    </tr>\n",
              "    <tr>\n",
              "      <th>2021-01-22 11:30:00</th>\n",
              "      <td>33.35</td>\n",
              "      <td>0.002405</td>\n",
              "      <td>33.2725</td>\n",
              "      <td>30.44445</td>\n",
              "      <td>1.0</td>\n",
              "      <td>-0.002405</td>\n",
              "    </tr>\n",
              "    <tr>\n",
              "      <th>2021-01-22 13:45:00</th>\n",
              "      <td>33.42</td>\n",
              "      <td>0.002099</td>\n",
              "      <td>33.3850</td>\n",
              "      <td>30.48745</td>\n",
              "      <td>1.0</td>\n",
              "      <td>0.002099</td>\n",
              "    </tr>\n",
              "    <tr>\n",
              "      <th>2021-01-22 14:30:00</th>\n",
              "      <td>33.47</td>\n",
              "      <td>0.001496</td>\n",
              "      <td>33.3775</td>\n",
              "      <td>30.53085</td>\n",
              "      <td>1.0</td>\n",
              "      <td>0.001496</td>\n",
              "    </tr>\n",
              "    <tr>\n",
              "      <th>2021-01-22 15:45:00</th>\n",
              "      <td>33.44</td>\n",
              "      <td>-0.000896</td>\n",
              "      <td>33.4200</td>\n",
              "      <td>30.57495</td>\n",
              "      <td>-1.0</td>\n",
              "      <td>-0.000896</td>\n",
              "    </tr>\n",
              "  </tbody>\n",
              "</table>\n",
              "</div>"
            ],
            "text/plain": [
              "                     close  Actual Returns  ...  Signal  Strategy Returns\n",
              "date                                        ...                          \n",
              "2021-01-22 09:30:00  33.27       -0.006866  ...    -1.0         -0.006866\n",
              "2021-01-22 11:30:00  33.35        0.002405  ...     1.0         -0.002405\n",
              "2021-01-22 13:45:00  33.42        0.002099  ...     1.0          0.002099\n",
              "2021-01-22 14:30:00  33.47        0.001496  ...     1.0          0.001496\n",
              "2021-01-22 15:45:00  33.44       -0.000896  ...    -1.0         -0.000896\n",
              "\n",
              "[5 rows x 6 columns]"
            ]
          },
          "metadata": {}
        }
      ]
    },
    {
      "cell_type": "code",
      "metadata": {
        "colab": {
          "base_uri": "https://localhost:8080/",
          "height": 286
        },
        "id": "Ei32uQXahAXT",
        "outputId": "322e1552-ed89-4cd3-9856-838fa7b6617b"
      },
      "source": [
        "# Plot Strategy Returns to examine performance\n",
        "(1 + signals_df['Strategy Returns']).cumprod().plot()"
      ],
      "execution_count": 18,
      "outputs": [
        {
          "output_type": "execute_result",
          "data": {
            "text/plain": [
              "<matplotlib.axes._subplots.AxesSubplot at 0x7f5bbe8ccd50>"
            ]
          },
          "metadata": {},
          "execution_count": 18
        },
        {
          "output_type": "display_data",
          "data": {
            "image/png": "[encoded data removed]",
            "text/plain": [
              "<Figure size 432x288 with 1 Axes>"
            ]
          },
          "metadata": {
            "needs_background": "light"
          }
        }
      ]
    },
    {
      "cell_type": "markdown",
      "metadata": {
        "id": "SFLnrbF4hAXT"
      },
      "source": [
        "### Step 3: Split the data into training and testing datasets."
      ]
    },
    {
      "cell_type": "code",
      "metadata": {
        "colab": {
          "base_uri": "https://localhost:8080/",
          "height": 238
        },
        "id": "gubNjWfJhAXU",
        "outputId": "78a5c6c9-16af-4352-8c95-037e1080fde7"
      },
      "source": [
        "# Assign a copy of the sma_fast and sma_slow columns to a features DataFrame called X\n",
        "X = signals_df[['SMA_Fast', 'SMA_Slow']].shift().dropna()\n",
        "\n",
        "# Review the DataFrame\n",
        "X.head()"
      ],
      "execution_count": 19,
      "outputs": [
        {
          "output_type": "execute_result",
          "data": {
            "text/html": [
              "<div>\n",
              "<style scoped>\n",
              "    .dataframe tbody tr th:only-of-type {\n",
              "        vertical-align: middle;\n",
              "    }\n",
              "\n",
              "    .dataframe tbody tr th {\n",
              "        vertical-align: top;\n",
              "    }\n",
              "\n",
              "    .dataframe thead th {\n",
              "        text-align: right;\n",
              "    }\n",
              "</style>\n",
              "<table border=\"1\" class=\"dataframe\">\n",
              "  <thead>\n",
              "    <tr style=\"text-align: right;\">\n",
              "      <th></th>\n",
              "      <th>SMA_Fast</th>\n",
              "      <th>SMA_Slow</th>\n",
              "    </tr>\n",
              "    <tr>\n",
              "      <th>date</th>\n",
              "      <th></th>\n",
              "      <th></th>\n",
              "    </tr>\n",
              "  </thead>\n",
              "  <tbody>\n",
              "    <tr>\n",
              "      <th>2015-04-02 15:00:00</th>\n",
              "      <td>24.9175</td>\n",
              "      <td>24.3214</td>\n",
              "    </tr>\n",
              "    <tr>\n",
              "      <th>2015-04-02 15:15:00</th>\n",
              "      <td>24.9200</td>\n",
              "      <td>24.3308</td>\n",
              "    </tr>\n",
              "    <tr>\n",
              "      <th>2015-04-02 15:30:00</th>\n",
              "      <td>24.9250</td>\n",
              "      <td>24.3360</td>\n",
              "    </tr>\n",
              "    <tr>\n",
              "      <th>2015-04-02 15:45:00</th>\n",
              "      <td>24.9325</td>\n",
              "      <td>24.3411</td>\n",
              "    </tr>\n",
              "    <tr>\n",
              "      <th>2015-04-06 09:30:00</th>\n",
              "      <td>24.9475</td>\n",
              "      <td>24.3463</td>\n",
              "    </tr>\n",
              "  </tbody>\n",
              "</table>\n",
              "</div>"
            ],
            "text/plain": [
              "                     SMA_Fast  SMA_Slow\n",
              "date                                   \n",
              "2015-04-02 15:00:00   24.9175   24.3214\n",
              "2015-04-02 15:15:00   24.9200   24.3308\n",
              "2015-04-02 15:30:00   24.9250   24.3360\n",
              "2015-04-02 15:45:00   24.9325   24.3411\n",
              "2015-04-06 09:30:00   24.9475   24.3463"
            ]
          },
          "metadata": {},
          "execution_count": 19
        }
      ]
    },
    {
      "cell_type": "code",
      "metadata": {
        "colab": {
          "base_uri": "https://localhost:8080/"
        },
        "id": "Fbpfs022hAXU",
        "outputId": "626ef986-a444-4214-f1e8-95e74b8ddca0"
      },
      "source": [
        "# Create the target set selecting the Signal column and assiging it to y\n",
        "y = signals_df['Signal']\n",
        "\n",
        "# Review the value counts\n",
        "y.value_counts()"
      ],
      "execution_count": 20,
      "outputs": [
        {
          "output_type": "execute_result",
          "data": {
            "text/plain": [
              " 1.0    2368\n",
              "-1.0    1855\n",
              "Name: Signal, dtype: int64"
            ]
          },
          "metadata": {},
          "execution_count": 20
        }
      ]
    },
    {
      "cell_type": "code",
      "metadata": {
        "colab": {
          "base_uri": "https://localhost:8080/"
        },
        "id": "8ohbXBa_hAXU",
        "outputId": "19959a2b-e9cc-486e-8c55-6b422f7c20db"
      },
      "source": [
        "# Select the start of the training period\n",
        "training_begin = X.index.min()\n",
        "\n",
        "# Display the training begin date\n",
        "print(training_begin)"
      ],
      "execution_count": 21,
      "outputs": [
        {
          "output_type": "stream",
          "name": "stdout",
          "text": [
            "2015-04-02 15:00:00\n"
          ]
        }
      ]
    },
    {
      "cell_type": "code",
      "metadata": {
        "colab": {
          "base_uri": "https://localhost:8080/"
        },
        "id": "iEBtcT-GhAXV",
        "outputId": "e62ea9f7-322a-45aa-819c-e5266c32d422"
      },
      "source": [
        "# Select the ending period for the training data with an offset of 3 months\n",
        "training_end = X.index.min() + DateOffset(months=3)\n",
        "\n",
        "# Display the training end date\n",
        "print(training_end)"
      ],
      "execution_count": 22,
      "outputs": [
        {
          "output_type": "stream",
          "name": "stdout",
          "text": [
            "2015-07-02 15:00:00\n"
          ]
        }
      ]
    },
    {
      "cell_type": "code",
      "metadata": {
        "colab": {
          "base_uri": "https://localhost:8080/",
          "height": 238
        },
        "id": "6VmhRYj2hAXV",
        "outputId": "536f5717-57a1-4ffc-d9a3-dcd22794cf02"
      },
      "source": [
        "# Generate the X_train and y_train DataFrames\n",
        "X_train = X.loc[training_begin:training_end]\n",
        "y_train = y.loc[training_begin:training_end]\n",
        "\n",
        "# Review the X_train DataFrame\n",
        "X_train.head()"
      ],
      "execution_count": 23,
      "outputs": [
        {
          "output_type": "execute_result",
          "data": {
            "text/html": [
              "<div>\n",
              "<style scoped>\n",
              "    .dataframe tbody tr th:only-of-type {\n",
              "        vertical-align: middle;\n",
              "    }\n",
              "\n",
              "    .dataframe tbody tr th {\n",
              "        vertical-align: top;\n",
              "    }\n",
              "\n",
              "    .dataframe thead th {\n",
              "        text-align: right;\n",
              "    }\n",
              "</style>\n",
              "<table border=\"1\" class=\"dataframe\">\n",
              "  <thead>\n",
              "    <tr style=\"text-align: right;\">\n",
              "      <th></th>\n",
              "      <th>SMA_Fast</th>\n",
              "      <th>SMA_Slow</th>\n",
              "    </tr>\n",
              "    <tr>\n",
              "      <th>date</th>\n",
              "      <th></th>\n",
              "      <th></th>\n",
              "    </tr>\n",
              "  </thead>\n",
              "  <tbody>\n",
              "    <tr>\n",
              "      <th>2015-04-02 15:00:00</th>\n",
              "      <td>24.9175</td>\n",
              "      <td>24.3214</td>\n",
              "    </tr>\n",
              "    <tr>\n",
              "      <th>2015-04-02 15:15:00</th>\n",
              "      <td>24.9200</td>\n",
              "      <td>24.3308</td>\n",
              "    </tr>\n",
              "    <tr>\n",
              "      <th>2015-04-02 15:30:00</th>\n",
              "      <td>24.9250</td>\n",
              "      <td>24.3360</td>\n",
              "    </tr>\n",
              "    <tr>\n",
              "      <th>2015-04-02 15:45:00</th>\n",
              "      <td>24.9325</td>\n",
              "      <td>24.3411</td>\n",
              "    </tr>\n",
              "    <tr>\n",
              "      <th>2015-04-06 09:30:00</th>\n",
              "      <td>24.9475</td>\n",
              "      <td>24.3463</td>\n",
              "    </tr>\n",
              "  </tbody>\n",
              "</table>\n",
              "</div>"
            ],
            "text/plain": [
              "                     SMA_Fast  SMA_Slow\n",
              "date                                   \n",
              "2015-04-02 15:00:00   24.9175   24.3214\n",
              "2015-04-02 15:15:00   24.9200   24.3308\n",
              "2015-04-02 15:30:00   24.9250   24.3360\n",
              "2015-04-02 15:45:00   24.9325   24.3411\n",
              "2015-04-06 09:30:00   24.9475   24.3463"
            ]
          },
          "metadata": {},
          "execution_count": 23
        }
      ]
    },
    {
      "cell_type": "code",
      "metadata": {
        "colab": {
          "base_uri": "https://localhost:8080/",
          "height": 238
        },
        "id": "-DD5ZLsphAXV",
        "outputId": "f14b0824-e0ed-4b1b-abf2-10d184c55d53"
      },
      "source": [
        "# Generate the X_test and y_test DataFrames\n",
        "X_test = X.loc[training_end+DateOffset(hours=1):]\n",
        "y_test = y.loc[training_end+DateOffset(hours=1):]\n",
        "\n",
        "# Review the X_test DataFrame\n",
        "X_train.head()"
      ],
      "execution_count": 24,
      "outputs": [
        {
          "output_type": "execute_result",
          "data": {
            "text/html": [
              "<div>\n",
              "<style scoped>\n",
              "    .dataframe tbody tr th:only-of-type {\n",
              "        vertical-align: middle;\n",
              "    }\n",
              "\n",
              "    .dataframe tbody tr th {\n",
              "        vertical-align: top;\n",
              "    }\n",
              "\n",
              "    .dataframe thead th {\n",
              "        text-align: right;\n",
              "    }\n",
              "</style>\n",
              "<table border=\"1\" class=\"dataframe\">\n",
              "  <thead>\n",
              "    <tr style=\"text-align: right;\">\n",
              "      <th></th>\n",
              "      <th>SMA_Fast</th>\n",
              "      <th>SMA_Slow</th>\n",
              "    </tr>\n",
              "    <tr>\n",
              "      <th>date</th>\n",
              "      <th></th>\n",
              "      <th></th>\n",
              "    </tr>\n",
              "  </thead>\n",
              "  <tbody>\n",
              "    <tr>\n",
              "      <th>2015-04-02 15:00:00</th>\n",
              "      <td>24.9175</td>\n",
              "      <td>24.3214</td>\n",
              "    </tr>\n",
              "    <tr>\n",
              "      <th>2015-04-02 15:15:00</th>\n",
              "      <td>24.9200</td>\n",
              "      <td>24.3308</td>\n",
              "    </tr>\n",
              "    <tr>\n",
              "      <th>2015-04-02 15:30:00</th>\n",
              "      <td>24.9250</td>\n",
              "      <td>24.3360</td>\n",
              "    </tr>\n",
              "    <tr>\n",
              "      <th>2015-04-02 15:45:00</th>\n",
              "      <td>24.9325</td>\n",
              "      <td>24.3411</td>\n",
              "    </tr>\n",
              "    <tr>\n",
              "      <th>2015-04-06 09:30:00</th>\n",
              "      <td>24.9475</td>\n",
              "      <td>24.3463</td>\n",
              "    </tr>\n",
              "  </tbody>\n",
              "</table>\n",
              "</div>"
            ],
            "text/plain": [
              "                     SMA_Fast  SMA_Slow\n",
              "date                                   \n",
              "2015-04-02 15:00:00   24.9175   24.3214\n",
              "2015-04-02 15:15:00   24.9200   24.3308\n",
              "2015-04-02 15:30:00   24.9250   24.3360\n",
              "2015-04-02 15:45:00   24.9325   24.3411\n",
              "2015-04-06 09:30:00   24.9475   24.3463"
            ]
          },
          "metadata": {},
          "execution_count": 24
        }
      ]
    },
    {
      "cell_type": "code",
      "metadata": {
        "id": "AlHpdKAfhAXW"
      },
      "source": [
        "# Scale the features DataFrames\n",
        "\n",
        "# Create a StandardScaler instance\n",
        "scaler = StandardScaler()\n",
        "\n",
        "# Apply the scaler model to fit the X-train data\n",
        "X_scaler = scaler.fit(X_train)\n",
        "\n",
        "# Transform the X_train and X_test DataFrames using the X_scaler\n",
        "X_train_scaled = X_scaler.transform(X_train)\n",
        "X_test_scaled = X_scaler.transform(X_test)"
      ],
      "execution_count": 25,
      "outputs": []
    },
    {
      "cell_type": "markdown",
      "metadata": {
        "id": "w7qHIW0rhAXW"
      },
      "source": [
        "### Step 4: Use the `SVC` classifier model from SKLearn's support vector machine (SVM) learning method to fit the training data and make predictions based on the testing data. Review the predictions."
      ]
    },
    {
      "cell_type": "code",
      "metadata": {
        "colab": {
          "base_uri": "https://localhost:8080/"
        },
        "id": "Pnb9cGqbhAXY",
        "outputId": "c83277e1-342b-4d7a-d40d-d19f4934f7e6"
      },
      "source": [
        "# From SVM, instantiate SVC classifier model instance\n",
        "svm_model = svm.SVC()\n",
        " \n",
        "# Fit the model to the data using the training data\n",
        "svm_model = svm_model.fit(X_train_scaled, y_train)\n",
        " \n",
        "# Use the testing data to make the model predictions\n",
        "svm_pred = svm_model.predict(X_test_scaled)\n",
        "\n",
        "# Review the model's predicted values\n",
        "print(svm_pred)\n"
      ],
      "execution_count": 27,
      "outputs": [
        {
          "output_type": "stream",
          "name": "stdout",
          "text": [
            "[1. 1. 1. ... 1. 1. 1.]\n"
          ]
        }
      ]
    },
    {
      "cell_type": "markdown",
      "metadata": {
        "id": "YN-D1Nr5hAXZ"
      },
      "source": [
        "### Step 5: Review the classification report associated with the `SVC` model predictions. "
      ]
    },
    {
      "cell_type": "code",
      "metadata": {
        "colab": {
          "base_uri": "https://localhost:8080/"
        },
        "id": "lH6J8r8nhAXa",
        "outputId": "6fd650bb-9c1f-4efe-c2bb-2865e9108079"
      },
      "source": [
        "# Use a classification report to evaluate the model using the predictions and testing data\n",
        "svm_testing_report = classification_report(y_test,svm_pred)\n",
        "\n",
        "# Print the classification report\n",
        "print(svm_testing_report)\n"
      ],
      "execution_count": 28,
      "outputs": [
        {
          "output_type": "stream",
          "name": "stdout",
          "text": [
            "              precision    recall  f1-score   support\n",
            "\n",
            "        -1.0       0.43      0.04      0.07      1804\n",
            "         1.0       0.56      0.96      0.71      2288\n",
            "\n",
            "    accuracy                           0.55      4092\n",
            "   macro avg       0.49      0.50      0.39      4092\n",
            "weighted avg       0.50      0.55      0.43      4092\n",
            "\n"
          ]
        }
      ]
    },
    {
      "cell_type": "markdown",
      "metadata": {
        "id": "SwmIS0vLhAXc"
      },
      "source": [
        "### Step 6: Create a predictions DataFrame that contains columns for “Predicted” values, “Actual Returns”, and “Strategy Returns”."
      ]
    },
    {
      "cell_type": "code",
      "metadata": {
        "colab": {
          "base_uri": "https://localhost:8080/",
          "height": 458
        },
        "id": "B1S84JOPhAXd",
        "outputId": "16aaeefc-710d-4815-9a72-e97b9726ec1e"
      },
      "source": [
        "# Create a new empty predictions DataFrame.\n",
        "\n",
        "# Create a predictions DataFrame\n",
        "predictions_df = (pd.DataFrame(index=X_test.index))\n",
        "\n",
        "# Add the SVM model predictions to the DataFrame\n",
        "predictions_df['Predicted'] = svm_pred\n",
        "\n",
        "# Add the actual returns to the DataFrame\n",
        "predictions_df['Actual Returns'] = signals_df[\"Actual Returns\"]\n",
        "\n",
        "# Add the strategy returns to the DataFrame\n",
        "predictions_df['Strategy Returns'] = predictions_df[\"Actual Returns\"]*predictions_df[\"Predicted\"]\n",
        "\n",
        "# Review the DataFrame\n",
        "display(predictions_df.head())\n",
        "display(predictions_df.tail())"
      ],
      "execution_count": 31,
      "outputs": [
        {
          "output_type": "display_data",
          "data": {
            "text/html": [
              "<div>\n",
              "<style scoped>\n",
              "    .dataframe tbody tr th:only-of-type {\n",
              "        vertical-align: middle;\n",
              "    }\n",
              "\n",
              "    .dataframe tbody tr th {\n",
              "        vertical-align: top;\n",
              "    }\n",
              "\n",
              "    .dataframe thead th {\n",
              "        text-align: right;\n",
              "    }\n",
              "</style>\n",
              "<table border=\"1\" class=\"dataframe\">\n",
              "  <thead>\n",
              "    <tr style=\"text-align: right;\">\n",
              "      <th></th>\n",
              "      <th>Predicted</th>\n",
              "      <th>Actual Returns</th>\n",
              "      <th>Strategy Returns</th>\n",
              "    </tr>\n",
              "    <tr>\n",
              "      <th>date</th>\n",
              "      <th></th>\n",
              "      <th></th>\n",
              "      <th></th>\n",
              "    </tr>\n",
              "  </thead>\n",
              "  <tbody>\n",
              "    <tr>\n",
              "      <th>2015-07-06 10:00:00</th>\n",
              "      <td>1.0</td>\n",
              "      <td>-0.025715</td>\n",
              "      <td>-0.025715</td>\n",
              "    </tr>\n",
              "    <tr>\n",
              "      <th>2015-07-06 10:45:00</th>\n",
              "      <td>1.0</td>\n",
              "      <td>0.007237</td>\n",
              "      <td>0.007237</td>\n",
              "    </tr>\n",
              "    <tr>\n",
              "      <th>2015-07-06 14:15:00</th>\n",
              "      <td>1.0</td>\n",
              "      <td>-0.009721</td>\n",
              "      <td>-0.009721</td>\n",
              "    </tr>\n",
              "    <tr>\n",
              "      <th>2015-07-06 14:30:00</th>\n",
              "      <td>1.0</td>\n",
              "      <td>-0.003841</td>\n",
              "      <td>-0.003841</td>\n",
              "    </tr>\n",
              "    <tr>\n",
              "      <th>2015-07-07 11:30:00</th>\n",
              "      <td>1.0</td>\n",
              "      <td>-0.018423</td>\n",
              "      <td>-0.018423</td>\n",
              "    </tr>\n",
              "  </tbody>\n",
              "</table>\n",
              "</div>"
            ],
            "text/plain": [
              "                     Predicted  Actual Returns  Strategy Returns\n",
              "date                                                            \n",
              "2015-07-06 10:00:00        1.0       -0.025715         -0.025715\n",
              "2015-07-06 10:45:00        1.0        0.007237          0.007237\n",
              "2015-07-06 14:15:00        1.0       -0.009721         -0.009721\n",
              "2015-07-06 14:30:00        1.0       -0.003841         -0.003841\n",
              "2015-07-07 11:30:00        1.0       -0.018423         -0.018423"
            ]
          },
          "metadata": {}
        },
        {
          "output_type": "display_data",
          "data": {
            "text/html": [
              "<div>\n",
              "<style scoped>\n",
              "    .dataframe tbody tr th:only-of-type {\n",
              "        vertical-align: middle;\n",
              "    }\n",
              "\n",
              "    .dataframe tbody tr th {\n",
              "        vertical-align: top;\n",
              "    }\n",
              "\n",
              "    .dataframe thead th {\n",
              "        text-align: right;\n",
              "    }\n",
              "</style>\n",
              "<table border=\"1\" class=\"dataframe\">\n",
              "  <thead>\n",
              "    <tr style=\"text-align: right;\">\n",
              "      <th></th>\n",
              "      <th>Predicted</th>\n",
              "      <th>Actual Returns</th>\n",
              "      <th>Strategy Returns</th>\n",
              "    </tr>\n",
              "    <tr>\n",
              "      <th>date</th>\n",
              "      <th></th>\n",
              "      <th></th>\n",
              "      <th></th>\n",
              "    </tr>\n",
              "  </thead>\n",
              "  <tbody>\n",
              "    <tr>\n",
              "      <th>2021-01-22 09:30:00</th>\n",
              "      <td>1.0</td>\n",
              "      <td>-0.006866</td>\n",
              "      <td>-0.006866</td>\n",
              "    </tr>\n",
              "    <tr>\n",
              "      <th>2021-01-22 11:30:00</th>\n",
              "      <td>1.0</td>\n",
              "      <td>0.002405</td>\n",
              "      <td>0.002405</td>\n",
              "    </tr>\n",
              "    <tr>\n",
              "      <th>2021-01-22 13:45:00</th>\n",
              "      <td>1.0</td>\n",
              "      <td>0.002099</td>\n",
              "      <td>0.002099</td>\n",
              "    </tr>\n",
              "    <tr>\n",
              "      <th>2021-01-22 14:30:00</th>\n",
              "      <td>1.0</td>\n",
              "      <td>0.001496</td>\n",
              "      <td>0.001496</td>\n",
              "    </tr>\n",
              "    <tr>\n",
              "      <th>2021-01-22 15:45:00</th>\n",
              "      <td>1.0</td>\n",
              "      <td>-0.000896</td>\n",
              "      <td>-0.000896</td>\n",
              "    </tr>\n",
              "  </tbody>\n",
              "</table>\n",
              "</div>"
            ],
            "text/plain": [
              "                     Predicted  Actual Returns  Strategy Returns\n",
              "date                                                            \n",
              "2021-01-22 09:30:00        1.0       -0.006866         -0.006866\n",
              "2021-01-22 11:30:00        1.0        0.002405          0.002405\n",
              "2021-01-22 13:45:00        1.0        0.002099          0.002099\n",
              "2021-01-22 14:30:00        1.0        0.001496          0.001496\n",
              "2021-01-22 15:45:00        1.0       -0.000896         -0.000896"
            ]
          },
          "metadata": {}
        }
      ]
    },
    {
      "cell_type": "markdown",
      "metadata": {
        "id": "Eq4x6Mb_hAXd"
      },
      "source": [
        "### Step 7: Create a cumulative return plot that shows the actual returns vs. the strategy returns. Save a PNG image of this plot. This will serve as a baseline against which to compare the effects of tuning the trading algorithm."
      ]
    },
    {
      "cell_type": "code",
      "metadata": {
        "colab": {
          "base_uri": "https://localhost:8080/",
          "height": 286
        },
        "id": "OhaIjSDUhAXe",
        "outputId": "74e94c84-c697-45a7-de4b-6a913694871c"
      },
      "source": [
        "# Plot the actual returns versus the strategy returns\n",
        "\n",
        "(1+predictions_df[[\"Actual Returns\",\"Strategy Returns\"]]).cumprod().plot()"
      ],
      "execution_count": 37,
      "outputs": [
        {
          "output_type": "execute_result",
          "data": {
            "text/plain": [
              "<matplotlib.axes._subplots.AxesSubplot at 0x7f5bb93bb450>"
            ]
          },
          "metadata": {},
          "execution_count": 37
        },
        {
          "output_type": "display_data",
          "data": {
            "image/png": "[encoded data removed]",
            "text/plain": [
              "<Figure size 432x288 with 1 Axes>"
            ]
          },
          "metadata": {
            "needs_background": "light"
          }
        }
      ]
    },
    {
      "cell_type": "markdown",
      "metadata": {
        "id": "CgANUcwqhAXf"
      },
      "source": [
        "---\n",
        "\n",
        "## Tune the Baseline Trading Algorithm"
      ]
    },
    {
      "cell_type": "markdown",
      "metadata": {
        "id": "sI96pw4qhAXf"
      },
      "source": [
        "## Step 6: Use an Alternative ML Model and Evaluate Strategy Returns"
      ]
    },
    {
      "cell_type": "markdown",
      "metadata": {
        "id": "LIm4ytAthAXg"
      },
      "source": [
        "In this section, you’ll tune, or adjust, the model’s input features to find the parameters that result in the best trading outcomes. You’ll choose the best by comparing the cumulative products of the strategy returns."
      ]
    },
    {
      "cell_type": "markdown",
      "metadata": {
        "id": "uJ9838yMhAXg"
      },
      "source": [
        "### Step 1: Tune the training algorithm by adjusting the size of the training dataset. \n",
        "\n",
        "To do so, slice your data into different periods. Rerun the notebook with the updated parameters, and record the results in your `README.md` file. \n",
        "\n",
        "Answer the following question: What impact resulted from increasing or decreasing the training window?"
      ]
    },
    {
      "cell_type": "markdown",
      "metadata": {
        "id": "6fcjPvnJhAXg"
      },
      "source": [
        "### Step 2: Tune the trading algorithm by adjusting the SMA input features. \n",
        "\n",
        "Adjust one or both of the windows for the algorithm. Rerun the notebook with the updated parameters, and record the results in your `README.md` file. \n",
        "\n",
        "Answer the following question: What impact resulted from increasing or decreasing either or both of the SMA windows?"
      ]
    },
    {
      "cell_type": "markdown",
      "metadata": {
        "id": "4OJe5yoahAXg"
      },
      "source": [
        "### Step 3: Choose the set of parameters that best improved the trading algorithm returns. \n",
        "\n",
        "Save a PNG image of the cumulative product of the actual returns vs. the strategy returns, and document your conclusion in your `README.md` file."
      ]
    },
    {
      "cell_type": "markdown",
      "metadata": {
        "id": "h1PhztiYhAXh"
      },
      "source": [
        "---\n",
        "\n",
        "## Evaluate a New Machine Learning Classifier\n",
        "\n",
        "In this section, you’ll use the original parameters that the starter code provided. But, you’ll apply them to the performance of a second machine learning model. "
      ]
    },
    {
      "cell_type": "markdown",
      "metadata": {
        "id": "Jq4S8orThAXh"
      },
      "source": [
        "### Step 1:  Import a new classifier, such as `AdaBoost`, `DecisionTreeClassifier`, or `LogisticRegression`. (For the full list of classifiers, refer to the [Supervised learning page](https://scikit-learn.org/stable/supervised_learning.html) in the scikit-learn documentation.)"
      ]
    },
    {
      "cell_type": "code",
      "metadata": {
        "id": "wKtSHiF_hAXh"
      },
      "source": [
        "# Import a new classifier from SKLearn\n",
        "from sklearn.tree import DecisionTreeClassifier\n",
        "\n",
        "# Initiate the model instance\n",
        "dtc = DecisionTreeClassifier()\n",
        "\n"
      ],
      "execution_count": 41,
      "outputs": []
    },
    {
      "cell_type": "markdown",
      "metadata": {
        "id": "bSYJzaj5hAXh"
      },
      "source": [
        "### Step 2: Using the original training data as the baseline model, fit another model with the new classifier."
      ]
    },
    {
      "cell_type": "code",
      "metadata": {
        "colab": {
          "base_uri": "https://localhost:8080/"
        },
        "id": "whjJTgXUhAXh",
        "outputId": "40b37b89-5bb8-43a7-d507-f36b6628dac2"
      },
      "source": [
        "# Fit the model using the training data\n",
        "model = dtc.fit(X_train_scaled,y_train)\n",
        "\n",
        "# Use the testing dataset to generate the predictions for the new model\n",
        "pred = model.predict(X_test_scaled)\n",
        "\n",
        "# Review the model's predicted values\n",
        "print(pred)\n"
      ],
      "execution_count": 42,
      "outputs": [
        {
          "output_type": "stream",
          "name": "stdout",
          "text": [
            "[ 1. -1. -1. ... -1. -1. -1.]\n"
          ]
        }
      ]
    },
    {
      "cell_type": "markdown",
      "metadata": {
        "id": "Ci-EPgoQhAXi"
      },
      "source": [
        "### Step 3: Backtest the new model to evaluate its performance. \n",
        "\n",
        "Save a PNG image of the cumulative product of the actual returns vs. the strategy returns for this updated trading algorithm, and write your conclusions in your `README.md` file. \n",
        "\n",
        "Answer the following questions: \n",
        "Did this new model perform better or worse than the provided baseline model? \n",
        "Did this new model perform better or worse than your tuned trading algorithm?"
      ]
    },
    {
      "cell_type": "code",
      "metadata": {
        "colab": {
          "base_uri": "https://localhost:8080/"
        },
        "id": "Lvj7rTzshAXi",
        "outputId": "eb8dfac6-d021-4bc2-fcd0-851e682afd4f"
      },
      "source": [
        "# Use a classification report to evaluate the model using the predictions and testing data\n",
        "report=classification_report(y_test,pred)\n",
        "\n",
        "# Print the classification report\n",
        "print(report)\n"
      ],
      "execution_count": 45,
      "outputs": [
        {
          "output_type": "stream",
          "name": "stdout",
          "text": [
            "              precision    recall  f1-score   support\n",
            "\n",
            "        -1.0       0.44      0.91      0.59      1804\n",
            "         1.0       0.56      0.09      0.15      2288\n",
            "\n",
            "    accuracy                           0.45      4092\n",
            "   macro avg       0.50      0.50      0.37      4092\n",
            "weighted avg       0.51      0.45      0.35      4092\n",
            "\n"
          ]
        }
      ]
    },
    {
      "cell_type": "code",
      "metadata": {
        "colab": {
          "base_uri": "https://localhost:8080/",
          "height": 238
        },
        "id": "uNtgR12ShAXi",
        "outputId": "43d67d97-e3ef-4a34-b259-3cf769cdefda"
      },
      "source": [
        "# Create a new empty predictions DataFrame.\n",
        "\n",
        "# Create a predictions DataFrame\n",
        "predictions=pd.DataFrame(index=X_test.index)\n",
        "\n",
        "# Add the SVM model predictions to the DataFrame\n",
        "predictions[\"Predictive\"]=pred\n",
        "\n",
        "# Add the actual returns to the DataFrame\n",
        "predictions[\"Actual Returns\"]=signals_df[\"Actual Returns\"]\n",
        "\n",
        "# Add the strategy returns to the DataFrame\n",
        "predictions[\"Strategy Returns\"]=predictions[\"Actual Returns\"]*predictions[\"Predictive\"]\n",
        "\n",
        "# Review the DataFrame\n",
        "predictions.head()\n"
      ],
      "execution_count": 47,
      "outputs": [
        {
          "output_type": "execute_result",
          "data": {
            "text/html": [
              "<div>\n",
              "<style scoped>\n",
              "    .dataframe tbody tr th:only-of-type {\n",
              "        vertical-align: middle;\n",
              "    }\n",
              "\n",
              "    .dataframe tbody tr th {\n",
              "        vertical-align: top;\n",
              "    }\n",
              "\n",
              "    .dataframe thead th {\n",
              "        text-align: right;\n",
              "    }\n",
              "</style>\n",
              "<table border=\"1\" class=\"dataframe\">\n",
              "  <thead>\n",
              "    <tr style=\"text-align: right;\">\n",
              "      <th></th>\n",
              "      <th>Predictive</th>\n",
              "      <th>Actual Returns</th>\n",
              "      <th>Strategy Returns</th>\n",
              "    </tr>\n",
              "    <tr>\n",
              "      <th>date</th>\n",
              "      <th></th>\n",
              "      <th></th>\n",
              "      <th></th>\n",
              "    </tr>\n",
              "  </thead>\n",
              "  <tbody>\n",
              "    <tr>\n",
              "      <th>2015-07-06 10:00:00</th>\n",
              "      <td>1.0</td>\n",
              "      <td>-0.025715</td>\n",
              "      <td>-0.025715</td>\n",
              "    </tr>\n",
              "    <tr>\n",
              "      <th>2015-07-06 10:45:00</th>\n",
              "      <td>-1.0</td>\n",
              "      <td>0.007237</td>\n",
              "      <td>-0.007237</td>\n",
              "    </tr>\n",
              "    <tr>\n",
              "      <th>2015-07-06 14:15:00</th>\n",
              "      <td>-1.0</td>\n",
              "      <td>-0.009721</td>\n",
              "      <td>0.009721</td>\n",
              "    </tr>\n",
              "    <tr>\n",
              "      <th>2015-07-06 14:30:00</th>\n",
              "      <td>-1.0</td>\n",
              "      <td>-0.003841</td>\n",
              "      <td>0.003841</td>\n",
              "    </tr>\n",
              "    <tr>\n",
              "      <th>2015-07-07 11:30:00</th>\n",
              "      <td>-1.0</td>\n",
              "      <td>-0.018423</td>\n",
              "      <td>0.018423</td>\n",
              "    </tr>\n",
              "  </tbody>\n",
              "</table>\n",
              "</div>"
            ],
            "text/plain": [
              "                     Predictive  Actual Returns  Strategy Returns\n",
              "date                                                             \n",
              "2015-07-06 10:00:00         1.0       -0.025715         -0.025715\n",
              "2015-07-06 10:45:00        -1.0        0.007237         -0.007237\n",
              "2015-07-06 14:15:00        -1.0       -0.009721          0.009721\n",
              "2015-07-06 14:30:00        -1.0       -0.003841          0.003841\n",
              "2015-07-07 11:30:00        -1.0       -0.018423          0.018423"
            ]
          },
          "metadata": {},
          "execution_count": 47
        }
      ]
    },
    {
      "cell_type": "code",
      "metadata": {
        "colab": {
          "base_uri": "https://localhost:8080/",
          "height": 286
        },
        "id": "exLv3g5IhAXi",
        "outputId": "67b2c726-4c25-4f96-af20-17d2ac7f943d"
      },
      "source": [
        "# Plot the actual returns versus the strategy returns\n",
        "(1 + predictions[[\"Actual Returns\", \"Strategy Returns\"]]).cumprod().plot()\n"
      ],
      "execution_count": 49,
      "outputs": [
        {
          "output_type": "execute_result",
          "data": {
            "text/plain": [
              "<matplotlib.axes._subplots.AxesSubplot at 0x7f5bb93f0410>"
            ]
          },
          "metadata": {},
          "execution_count": 49
        },
        {
          "output_type": "display_data",
          "data": {
            "image/png": "[encoded data removed]",
            "text/plain": [
              "<Figure size 432x288 with 1 Axes>"
            ]
          },
          "metadata": {
            "needs_background": "light"
          }
        }
      ]
    },
    {
      "cell_type": "code",
      "metadata": {
        "id": "1csFILmHhAXn"
      },
      "source": [
        ""
      ],
      "execution_count": 49,
      "outputs": []
    }
  ]
}